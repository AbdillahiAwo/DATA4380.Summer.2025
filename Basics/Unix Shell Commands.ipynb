{
 "cells": [
  {
   "cell_type": "markdown",
   "id": "b493a37b-dc1d-4629-83a9-37d7a85bfc5b",
   "metadata": {},
   "source": [
    "## **Kaggle Commands**"
   ]
  },
  {
   "cell_type": "markdown",
   "id": "f1bf761a-cfc2-4517-98d1-79df077b81aa",
   "metadata": {},
   "source": [
    "### Organize your dataset directory\n",
    "- mkdir csv_files\n",
    "- mv \"car_web_scraped _dataset(in).csv\" csv_files/\n",
    "mv \"diabetes_prediction _dataset(in).csv\" csv_files/\n",
    "mv \"diabetes prediction_dataset_1000(in).csv\" csv_files/\n",
    "mv \"Heart_Disease_Prediction(in).csv\" csv_files/\n",
    "mv \"Housing(in).csv\" csv_files/\n",
    "mv \"Mall_Customers(in).csv\" csv_files/\n",
    "mv \"starbucks(in).csv\" csv_files/\n",
    "mv \"Titanic-Dataset(in).csv\" csv_files/\n",
    "mv \"world all university rank and rank score(in).csv\" csv_files/"
   ]
  },
  {
   "cell_type": "markdown",
   "id": "d275dc43-2093-4314-b296-15300f027876",
   "metadata": {},
   "source": [
    "### Create 3 new csv\n",
    "- !wc -l diabetes_prediction_dataset.csv\n",
    "- !head -n 1 diabetes_prediction_dataset.csv > diabetes_part1.csv !head -n 1 diabetes_prediction_dataset.csv > diabetes_part2.csv !head -n 1 diabetes_prediction_dataset.csv > diabetes_part3.csv\n",
    "- !tail -n +2 diabetes_prediction_dataset.csv | head -n 33333 >> diabetes_part1.csv !tail -n +33335 diabetes_prediction_dataset.csv | head -n 33333 >> diabetes_part2.csv !tail -n +66668 diabetes_prediction_dataset.csv >> diabetes_part3.csv\n",
    "- !wc -l diabetes_part*.csv"
   ]
  },
  {
   "cell_type": "markdown",
   "id": "6048f9d6-c643-4009-8679-0a19918fb3c4",
   "metadata": {},
   "source": [
    "### Split heart disease dataset\n",
    "- !head -n 1 Heart_Disease_Prediction.csv > heart_presence.csv\n",
    "!head -n 1 Heart_Disease_Prediction.csv > heart_absence.csv\n",
    "\n",
    "- !grep \"Presence\" Heart_Disease_Prediction.csv >> heart_presence.csv\n",
    "\n",
    "- !grep \"Absence\" Heart_Disease_Prediction.csv >> heart_absence.csv\n",
    "\n",
    "- !wc -l heart_presence.csv heart_absence.csv"
   ]
  },
  {
   "cell_type": "markdown",
   "id": "9e27914e-0234-4214-b459-09bd233b10c5",
   "metadata": {},
   "source": [
    "### Car Accidents\n",
    "- !grep -i \"no accidents\" car_web_scraped_dataset.csv | wc -l\n",
    "\n",
    "- !tail -n +2 car_web_scraped_dataset.csv | wc -l"
   ]
  },
  {
   "cell_type": "markdown",
   "id": "643e6908-fad6-4a09-92c4-3f365ee7974c",
   "metadata": {},
   "source": [
    "### Housing Cleaned\n",
    "!sed -e 's/\\byes\\b/1/g' \\\n",
    "     -e 's/\\bno\\b/0/g' \\\n",
    "     -e 's/\\bunfurnished\\b/0/g' \\\n",
    "     -e 's/\\bfurnished\\b/1/g' \\\n",
    "     -e 's/\\bsemi-furnished\\b/2/g' \\\n",
    "     Housing.csv > Housing_cleaned.csv"
   ]
  },
  {
   "cell_type": "code",
   "execution_count": null,
   "id": "08dc8161-1d9b-4fe3-9307-31b6412a8d66",
   "metadata": {},
   "outputs": [],
   "source": []
  }
 ],
 "metadata": {
  "kernelspec": {
   "display_name": "Python 3 (ipykernel)",
   "language": "python",
   "name": "python3"
  },
  "language_info": {
   "codemirror_mode": {
    "name": "ipython",
    "version": 3
   },
   "file_extension": ".py",
   "mimetype": "text/x-python",
   "name": "python",
   "nbconvert_exporter": "python",
   "pygments_lexer": "ipython3",
   "version": "3.11.5"
  }
 },
 "nbformat": 4,
 "nbformat_minor": 5
}
